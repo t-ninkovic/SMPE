{
 "cells": [
  {
   "cell_type": "markdown",
   "metadata": {},
   "source": [
    "# Scientific Methodology and Performance Evaluation project\n",
    "\n",
    "## Purchasing power of English workers from the 16th to the 19th century\n",
    "\n",
    "Student: Tijana Ninkovic\n",
    "<br>tijana.ninkovic@grenoble-inp.org"
   ]
  },
  {
   "cell_type": "markdown",
   "metadata": {},
   "source": [
    "### About the dataset\n",
    "This dataset shows the evolution of the wheat price and average salaries of English workers from 1565 to 1821. The values in this dataset are obtained from a scan of William Playfair's graph. He used this graph to show the price of wheat and typical weekly wage to argue that working men had never been as well-off in terms of purchasing power as they had become towards the end of that period.\n",
    "<br> This dataset is available for download on this [link](https://raw.githubusercontent.com/vincentarelbundock/Rdatasets/master/csv/HistData/Wheat.csv)"
   ]
  },
  {
   "cell_type": "markdown",
   "metadata": {},
   "source": [
    "First, we are going to load the necessary libraries for analyzing and visualizing the data: `pandas`, `matplotlib` and `seaborn`.\n",
    "\n",
    "\n",
    "The main library for visualizing data in Python is **matplotlib**. It is powerful enough to allow us to make any kind of graph we would like. Because it is so powerful, it is also very complex, so another library that was developed on top of it is **seaborn**. The graphs in seaborn look nicer than the ones in matplotlib and it also allows us to make complex visualizations more simple and quick. I will be using both of them in this notebook."
   ]
  },
  {
   "cell_type": "code",
   "execution_count": 1,
   "metadata": {},
   "outputs": [],
   "source": [
    "import pandas as pd\n",
    "\n",
    "%matplotlib inline\n",
    "import matplotlib.pyplot as plt\n",
    "\n",
    "import seaborn as sns\n",
    "sns.set()"
   ]
  },
  {
   "cell_type": "markdown",
   "metadata": {},
   "source": [
    "Next we are going to load the dataset, which is in a CSV format."
   ]
  },
  {
   "cell_type": "code",
   "execution_count": 2,
   "metadata": {},
   "outputs": [
    {
     "data": {
      "text/html": [
       "<div>\n",
       "<style scoped>\n",
       "    .dataframe tbody tr th:only-of-type {\n",
       "        vertical-align: middle;\n",
       "    }\n",
       "\n",
       "    .dataframe tbody tr th {\n",
       "        vertical-align: top;\n",
       "    }\n",
       "\n",
       "    .dataframe thead th {\n",
       "        text-align: right;\n",
       "    }\n",
       "</style>\n",
       "<table border=\"1\" class=\"dataframe\">\n",
       "  <thead>\n",
       "    <tr style=\"text-align: right;\">\n",
       "      <th></th>\n",
       "      <th>Unnamed: 0</th>\n",
       "      <th>Year</th>\n",
       "      <th>Wheat</th>\n",
       "      <th>Wages</th>\n",
       "    </tr>\n",
       "  </thead>\n",
       "  <tbody>\n",
       "    <tr>\n",
       "      <th>0</th>\n",
       "      <td>1</td>\n",
       "      <td>1565</td>\n",
       "      <td>41.0</td>\n",
       "      <td>5.00</td>\n",
       "    </tr>\n",
       "    <tr>\n",
       "      <th>1</th>\n",
       "      <td>2</td>\n",
       "      <td>1570</td>\n",
       "      <td>45.0</td>\n",
       "      <td>5.05</td>\n",
       "    </tr>\n",
       "    <tr>\n",
       "      <th>2</th>\n",
       "      <td>3</td>\n",
       "      <td>1575</td>\n",
       "      <td>42.0</td>\n",
       "      <td>5.08</td>\n",
       "    </tr>\n",
       "    <tr>\n",
       "      <th>3</th>\n",
       "      <td>4</td>\n",
       "      <td>1580</td>\n",
       "      <td>49.0</td>\n",
       "      <td>5.12</td>\n",
       "    </tr>\n",
       "    <tr>\n",
       "      <th>4</th>\n",
       "      <td>5</td>\n",
       "      <td>1585</td>\n",
       "      <td>41.5</td>\n",
       "      <td>5.15</td>\n",
       "    </tr>\n",
       "  </tbody>\n",
       "</table>\n",
       "</div>"
      ],
      "text/plain": [
       "   Unnamed: 0  Year  Wheat  Wages\n",
       "0           1  1565   41.0   5.00\n",
       "1           2  1570   45.0   5.05\n",
       "2           3  1575   42.0   5.08\n",
       "3           4  1580   49.0   5.12\n",
       "4           5  1585   41.5   5.15"
      ]
     },
     "execution_count": 2,
     "metadata": {},
     "output_type": "execute_result"
    }
   ],
   "source": [
    "raw_data = pd.read_csv('Wheat.csv', delimiter=',')\n",
    "raw_data.head()"
   ]
  },
  {
   "cell_type": "markdown",
   "metadata": {},
   "source": [
    "We are going to use the first column of the dataset as index."
   ]
  },
  {
   "cell_type": "code",
   "execution_count": 3,
   "metadata": {},
   "outputs": [
    {
     "data": {
      "text/html": [
       "<div>\n",
       "<style scoped>\n",
       "    .dataframe tbody tr th:only-of-type {\n",
       "        vertical-align: middle;\n",
       "    }\n",
       "\n",
       "    .dataframe tbody tr th {\n",
       "        vertical-align: top;\n",
       "    }\n",
       "\n",
       "    .dataframe thead th {\n",
       "        text-align: right;\n",
       "    }\n",
       "</style>\n",
       "<table border=\"1\" class=\"dataframe\">\n",
       "  <thead>\n",
       "    <tr style=\"text-align: right;\">\n",
       "      <th></th>\n",
       "      <th>Year</th>\n",
       "      <th>Wheat</th>\n",
       "      <th>Wages</th>\n",
       "    </tr>\n",
       "    <tr>\n",
       "      <th>Index</th>\n",
       "      <th></th>\n",
       "      <th></th>\n",
       "      <th></th>\n",
       "    </tr>\n",
       "  </thead>\n",
       "  <tbody>\n",
       "    <tr>\n",
       "      <th>1</th>\n",
       "      <td>1565</td>\n",
       "      <td>41.0</td>\n",
       "      <td>5.00</td>\n",
       "    </tr>\n",
       "    <tr>\n",
       "      <th>2</th>\n",
       "      <td>1570</td>\n",
       "      <td>45.0</td>\n",
       "      <td>5.05</td>\n",
       "    </tr>\n",
       "    <tr>\n",
       "      <th>3</th>\n",
       "      <td>1575</td>\n",
       "      <td>42.0</td>\n",
       "      <td>5.08</td>\n",
       "    </tr>\n",
       "    <tr>\n",
       "      <th>4</th>\n",
       "      <td>1580</td>\n",
       "      <td>49.0</td>\n",
       "      <td>5.12</td>\n",
       "    </tr>\n",
       "    <tr>\n",
       "      <th>5</th>\n",
       "      <td>1585</td>\n",
       "      <td>41.5</td>\n",
       "      <td>5.15</td>\n",
       "    </tr>\n",
       "  </tbody>\n",
       "</table>\n",
       "</div>"
      ],
      "text/plain": [
       "       Year  Wheat  Wages\n",
       "Index                    \n",
       "1      1565   41.0   5.00\n",
       "2      1570   45.0   5.05\n",
       "3      1575   42.0   5.08\n",
       "4      1580   49.0   5.12\n",
       "5      1585   41.5   5.15"
      ]
     },
     "execution_count": 3,
     "metadata": {},
     "output_type": "execute_result"
    }
   ],
   "source": [
    "raw_data.columns = ['Index', 'Year', 'Wheat', 'Wages']\n",
    "df = raw_data.set_index('Index')\n",
    "df.head()"
   ]
  },
  {
   "cell_type": "code",
   "execution_count": 4,
   "metadata": {},
   "outputs": [
    {
     "name": "stdout",
     "output_type": "stream",
     "text": [
      "<class 'pandas.core.frame.DataFrame'>\n",
      "Int64Index: 53 entries, 1 to 53\n",
      "Data columns (total 3 columns):\n",
      "Year     53 non-null int64\n",
      "Wheat    53 non-null float64\n",
      "Wages    50 non-null float64\n",
      "dtypes: float64(2), int64(1)\n",
      "memory usage: 1.7 KB\n"
     ]
    }
   ],
   "source": [
    "df.info()"
   ]
  },
  {
   "cell_type": "markdown",
   "metadata": {},
   "source": [
    "`df.info()` gives us information about our dataset. We can see that it has 53 rows and 3 columns. Year values are integers and wheat and wages values are floats.\n",
    "<br>For each row we have a number of non-null values. For Year and Wheat that number is the same as the number of rows, but we can see that for Wages we have some null values."
   ]
  },
  {
   "cell_type": "code",
   "execution_count": 5,
   "metadata": {},
   "outputs": [
    {
     "data": {
      "text/html": [
       "<div>\n",
       "<style scoped>\n",
       "    .dataframe tbody tr th:only-of-type {\n",
       "        vertical-align: middle;\n",
       "    }\n",
       "\n",
       "    .dataframe tbody tr th {\n",
       "        vertical-align: top;\n",
       "    }\n",
       "\n",
       "    .dataframe thead th {\n",
       "        text-align: right;\n",
       "    }\n",
       "</style>\n",
       "<table border=\"1\" class=\"dataframe\">\n",
       "  <thead>\n",
       "    <tr style=\"text-align: right;\">\n",
       "      <th></th>\n",
       "      <th>Year</th>\n",
       "      <th>Wheat</th>\n",
       "      <th>Wages</th>\n",
       "    </tr>\n",
       "    <tr>\n",
       "      <th>Index</th>\n",
       "      <th></th>\n",
       "      <th></th>\n",
       "      <th></th>\n",
       "    </tr>\n",
       "  </thead>\n",
       "  <tbody>\n",
       "    <tr>\n",
       "      <th>51</th>\n",
       "      <td>1815</td>\n",
       "      <td>78.0</td>\n",
       "      <td>NaN</td>\n",
       "    </tr>\n",
       "    <tr>\n",
       "      <th>52</th>\n",
       "      <td>1820</td>\n",
       "      <td>54.0</td>\n",
       "      <td>NaN</td>\n",
       "    </tr>\n",
       "    <tr>\n",
       "      <th>53</th>\n",
       "      <td>1821</td>\n",
       "      <td>54.0</td>\n",
       "      <td>NaN</td>\n",
       "    </tr>\n",
       "  </tbody>\n",
       "</table>\n",
       "</div>"
      ],
      "text/plain": [
       "       Year  Wheat  Wages\n",
       "Index                    \n",
       "51     1815   78.0    NaN\n",
       "52     1820   54.0    NaN\n",
       "53     1821   54.0    NaN"
      ]
     },
     "execution_count": 5,
     "metadata": {},
     "output_type": "execute_result"
    }
   ],
   "source": [
    "df[df.isnull().any(axis=1)]"
   ]
  },
  {
   "cell_type": "markdown",
   "metadata": {},
   "source": [
    "We can see that the last three rows are those for which we have missing Wages values. We can exclude those rows from further analysis by removing them from our dataset."
   ]
  },
  {
   "cell_type": "code",
   "execution_count": 6,
   "metadata": {},
   "outputs": [],
   "source": [
    "df = df.drop([51,52,53])"
   ]
  },
  {
   "cell_type": "code",
   "execution_count": 7,
   "metadata": {},
   "outputs": [
    {
     "data": {
      "text/html": [
       "<div>\n",
       "<style scoped>\n",
       "    .dataframe tbody tr th:only-of-type {\n",
       "        vertical-align: middle;\n",
       "    }\n",
       "\n",
       "    .dataframe tbody tr th {\n",
       "        vertical-align: top;\n",
       "    }\n",
       "\n",
       "    .dataframe thead th {\n",
       "        text-align: right;\n",
       "    }\n",
       "</style>\n",
       "<table border=\"1\" class=\"dataframe\">\n",
       "  <thead>\n",
       "    <tr style=\"text-align: right;\">\n",
       "      <th></th>\n",
       "      <th>Year</th>\n",
       "      <th>Wheat</th>\n",
       "      <th>Wages</th>\n",
       "    </tr>\n",
       "  </thead>\n",
       "  <tbody>\n",
       "    <tr>\n",
       "      <th>count</th>\n",
       "      <td>50.000000</td>\n",
       "      <td>50.000000</td>\n",
       "      <td>50.000000</td>\n",
       "    </tr>\n",
       "    <tr>\n",
       "      <th>mean</th>\n",
       "      <td>1687.500000</td>\n",
       "      <td>42.140000</td>\n",
       "      <td>11.581600</td>\n",
       "    </tr>\n",
       "    <tr>\n",
       "      <th>std</th>\n",
       "      <td>72.886899</td>\n",
       "      <td>14.879461</td>\n",
       "      <td>7.336287</td>\n",
       "    </tr>\n",
       "    <tr>\n",
       "      <th>min</th>\n",
       "      <td>1565.000000</td>\n",
       "      <td>26.000000</td>\n",
       "      <td>5.000000</td>\n",
       "    </tr>\n",
       "    <tr>\n",
       "      <th>25%</th>\n",
       "      <td>1626.250000</td>\n",
       "      <td>32.250000</td>\n",
       "      <td>6.145000</td>\n",
       "    </tr>\n",
       "    <tr>\n",
       "      <th>50%</th>\n",
       "      <td>1687.500000</td>\n",
       "      <td>40.250000</td>\n",
       "      <td>7.800000</td>\n",
       "    </tr>\n",
       "    <tr>\n",
       "      <th>75%</th>\n",
       "      <td>1748.750000</td>\n",
       "      <td>45.750000</td>\n",
       "      <td>14.875000</td>\n",
       "    </tr>\n",
       "    <tr>\n",
       "      <th>max</th>\n",
       "      <td>1810.000000</td>\n",
       "      <td>99.000000</td>\n",
       "      <td>30.000000</td>\n",
       "    </tr>\n",
       "  </tbody>\n",
       "</table>\n",
       "</div>"
      ],
      "text/plain": [
       "              Year      Wheat      Wages\n",
       "count    50.000000  50.000000  50.000000\n",
       "mean   1687.500000  42.140000  11.581600\n",
       "std      72.886899  14.879461   7.336287\n",
       "min    1565.000000  26.000000   5.000000\n",
       "25%    1626.250000  32.250000   6.145000\n",
       "50%    1687.500000  40.250000   7.800000\n",
       "75%    1748.750000  45.750000  14.875000\n",
       "max    1810.000000  99.000000  30.000000"
      ]
     },
     "execution_count": 7,
     "metadata": {},
     "output_type": "execute_result"
    }
   ],
   "source": [
    "df.describe()"
   ]
  },
  {
   "cell_type": "markdown",
   "metadata": {},
   "source": [
    "With `df.describe()` we can get some statistical information about our data, like the minimum and maximum value for each column, mean value etc. This helps us familiarize with the data we are working with."
   ]
  },
  {
   "cell_type": "markdown",
   "metadata": {},
   "source": [
    "In order to verify the data, we can check whether we have some missing data by checking the difference of Year values between each consecutive row."
   ]
  },
  {
   "cell_type": "code",
   "execution_count": 8,
   "metadata": {},
   "outputs": [],
   "source": [
    "year_list = list(df['Year'])"
   ]
  },
  {
   "cell_type": "code",
   "execution_count": 9,
   "metadata": {},
   "outputs": [],
   "source": [
    "current = year_list[0]\n",
    "for elem in year_list:\n",
    "    assert (elem - current <= 5), \"There is missing data\"\n",
    "    current = elem"
   ]
  },
  {
   "cell_type": "markdown",
   "metadata": {},
   "source": [
    "This means that we don't have any missing data and that the difference between all our Year values is 5."
   ]
  },
  {
   "cell_type": "markdown",
   "metadata": {},
   "source": [
    "#### 1. Reproduce Playfair's graph from the numerical data"
   ]
  },
  {
   "cell_type": "markdown",
   "metadata": {},
   "source": [
    "[Playfair's graph](https://upload.wikimedia.org/wikipedia/commons/3/3a/Chart_Showing_at_One_View_the_Price_of_the_Quarter_of_Wheat%2C_and_Wages_of_Labour_by_the_Week%2C_from_1565_to_1821.png) represents the wheat price by bars and the salaries by a blue surface delimited by a red curve."
   ]
  },
  {
   "cell_type": "code",
   "execution_count": 10,
   "metadata": {},
   "outputs": [
    {
     "data": {
      "image/png": "[encoded data removed]",
      "text/plain": [
       "<Figure size 432x288 with 2 Axes>"
      ]
     },
     "metadata": {
      "needs_background": "light"
     },
     "output_type": "display_data"
    }
   ],
   "source": [
    "fig = plt.figure()\n",
    "ax1 = fig.add_subplot(211)\n",
    "ax2 = fig.add_subplot(212)\n",
    "ax1.bar(df['Year'], df['Wheat'], edgecolor='b', width=0.8)\n",
    "ax2.plot(df['Year'], df['Wages'], color='r')\n",
    "plt.show()"
   ]
  },
  {
   "cell_type": "markdown",
   "metadata": {},
   "source": [
    "This graph is not identical to Playfair's graph due to difference in the tools used to create them, but it shows the same data in a similar style. The wheat prices are represented by bars and the salaries are represented by a red curve.\n",
    "\n",
    "\n",
    "We can see that over the years the salary has exponentially increased. The wheat prices stayed pretty much the same until the eighteenth century when they also increased drastically, but not as much as the salary, which is the point Playfair was trying to argue."
   ]
  },
  {
   "cell_type": "markdown",
   "metadata": {},
   "source": [
    "#### 2. Improve the representation of the data"
   ]
  },
  {
   "cell_type": "markdown",
   "metadata": {},
   "source": [
    "This graph can be improved by adding another y-axis to separate shillings per week and shillings per quarter, because in the original graph they are looked at as the same value."
   ]
  },
  {
   "cell_type": "code",
   "execution_count": 11,
   "metadata": {},
   "outputs": [
    {
     "data": {
      "image/png": "[encoded data removed]",
      "text/plain": [
       "<Figure size 432x288 with 2 Axes>"
      ]
     },
     "metadata": {
      "needs_background": "light"
     },
     "output_type": "display_data"
    }
   ],
   "source": [
    "fig, ax1 = plt.subplots()\n",
    "\n",
    "color = 'tab:blue'\n",
    "ax1.set_xlabel('Years')\n",
    "ax1.set_ylabel('Price of wheat for 15 pounds', color=color)\n",
    "ax1.plot(df['Year'], df['Wheat'], color=color)\n",
    "ax1.tick_params(axis='y', labelcolor=color)\n",
    "\n",
    "ax2 = ax1.twinx()  # This means that they will share the x-axis\n",
    "\n",
    "color = 'tab:red'\n",
    "ax2.set_ylabel('Weekly wages', color=color) \n",
    "ax2.plot(df['Year'], df['Wages'], color=color)\n",
    "ax2.tick_params(axis='y', labelcolor=color)\n",
    "\n",
    "fig.tight_layout() \n",
    "plt.show()"
   ]
  },
  {
   "cell_type": "markdown",
   "metadata": {},
   "source": [
    "This graph gives us a much better representation of the data. The left y-axis represents the price of wheat per quarter, a quarter being 15 pounds. The right y-axes represents the wages in shillings per week. \n",
    "\n",
    "However, from this graph we are still unable to conclude how much wheat a worker could buy with his salary."
   ]
  },
  {
   "cell_type": "markdown",
   "metadata": {},
   "source": [
    "#### 3. Make the fact that worker's purchasing power increased over time stand out better"
   ]
  },
  {
   "cell_type": "markdown",
   "metadata": {},
   "source": [
    "We can further improve the graph by presenting the actual purchasing power, which is the amount of wheat a worker could buy with a weekly salary. To do this, we first need to calculate this value and add it to our dataset as a new column.\n",
    "\n",
    "We begin by calculating the price of 1kg of wheat, since the current values give us the price of 15 pounds, which is 6.8kg.\n",
    "We can get this value by deviding the Wheat column with 6.8.\n",
    "<br>After that, we want to find how many kilograms of wheat could be bought with a weekly salary, so we devide the Wages column with the price per kilogram that we just calculated. The new value is saved in the column **Wheat for weekly salary**"
   ]
  },
  {
   "cell_type": "code",
   "execution_count": 12,
   "metadata": {},
   "outputs": [
    {
     "data": {
      "text/html": [
       "<div>\n",
       "<style scoped>\n",
       "    .dataframe tbody tr th:only-of-type {\n",
       "        vertical-align: middle;\n",
       "    }\n",
       "\n",
       "    .dataframe tbody tr th {\n",
       "        vertical-align: top;\n",
       "    }\n",
       "\n",
       "    .dataframe thead th {\n",
       "        text-align: right;\n",
       "    }\n",
       "</style>\n",
       "<table border=\"1\" class=\"dataframe\">\n",
       "  <thead>\n",
       "    <tr style=\"text-align: right;\">\n",
       "      <th></th>\n",
       "      <th>Year</th>\n",
       "      <th>Wheat</th>\n",
       "      <th>Wages</th>\n",
       "      <th>Wheat for weekly salary</th>\n",
       "    </tr>\n",
       "    <tr>\n",
       "      <th>Index</th>\n",
       "      <th></th>\n",
       "      <th></th>\n",
       "      <th></th>\n",
       "      <th></th>\n",
       "    </tr>\n",
       "  </thead>\n",
       "  <tbody>\n",
       "    <tr>\n",
       "      <th>1</th>\n",
       "      <td>1565</td>\n",
       "      <td>41.0</td>\n",
       "      <td>5.00</td>\n",
       "      <td>0.83</td>\n",
       "    </tr>\n",
       "    <tr>\n",
       "      <th>2</th>\n",
       "      <td>1570</td>\n",
       "      <td>45.0</td>\n",
       "      <td>5.05</td>\n",
       "      <td>0.76</td>\n",
       "    </tr>\n",
       "    <tr>\n",
       "      <th>3</th>\n",
       "      <td>1575</td>\n",
       "      <td>42.0</td>\n",
       "      <td>5.08</td>\n",
       "      <td>0.82</td>\n",
       "    </tr>\n",
       "    <tr>\n",
       "      <th>4</th>\n",
       "      <td>1580</td>\n",
       "      <td>49.0</td>\n",
       "      <td>5.12</td>\n",
       "      <td>0.71</td>\n",
       "    </tr>\n",
       "    <tr>\n",
       "      <th>5</th>\n",
       "      <td>1585</td>\n",
       "      <td>41.5</td>\n",
       "      <td>5.15</td>\n",
       "      <td>0.84</td>\n",
       "    </tr>\n",
       "  </tbody>\n",
       "</table>\n",
       "</div>"
      ],
      "text/plain": [
       "       Year  Wheat  Wages  Wheat for weekly salary\n",
       "Index                                             \n",
       "1      1565   41.0   5.00                     0.83\n",
       "2      1570   45.0   5.05                     0.76\n",
       "3      1575   42.0   5.08                     0.82\n",
       "4      1580   49.0   5.12                     0.71\n",
       "5      1585   41.5   5.15                     0.84"
      ]
     },
     "execution_count": 12,
     "metadata": {},
     "output_type": "execute_result"
    }
   ],
   "source": [
    "df2 = df.copy()\n",
    "df2['Wheat for weekly salary'] = round(df2['Wages']/(df2['Wheat']/6.8), 2)\n",
    "df2.head()"
   ]
  },
  {
   "cell_type": "markdown",
   "metadata": {},
   "source": [
    "Now, we can plot this new value we calculated as a function of time and show how the purchasing power changed over the years."
   ]
  },
  {
   "cell_type": "code",
   "execution_count": 51,
   "metadata": {},
   "outputs": [
    {
     "data": {
      "text/plain": [
       "Text(0.5,1,'Amount of wheat (in kg) that can be purchased with weekly salary')"
      ]
     },
     "execution_count": 51,
     "metadata": {},
     "output_type": "execute_result"
    },
    {
     "data": {
      "image/png": "[encoded data removed]",
      "text/plain": [
       "<Figure size 432x288 with 1 Axes>"
      ]
     },
     "metadata": {
      "needs_background": "light"
     },
     "output_type": "display_data"
    }
   ],
   "source": [
    "sns.lineplot('Year', 'Wheat for weekly salary', data=df2).set_title('Amount of wheat (in kg) that can be purchased with weekly salary')"
   ]
  },
  {
   "cell_type": "markdown",
   "metadata": {},
   "source": [
    "The graph is showing us that, as Playfair claimed, the purchasing power had increased. We can see a significant increase between the years 1700 and 1750. However, by the end of the 17th century, we see a decrease."
   ]
  },
  {
   "cell_type": "markdown",
   "metadata": {},
   "source": [
    "The next task is to show the prices and salaries on the same graph. For visualizing two nummeric attributes, the scatter plot is used most often. It also allows us to add a third dimension to the graph, by changing either the size or the color of the points. Here I am using the `scatterplot()` function from the `seaborn` package and setting the value of hue to Year. Lighter points represent earlier years, while darker points represent later years."
   ]
  },
  {
   "cell_type": "code",
   "execution_count": 48,
   "metadata": {},
   "outputs": [
    {
     "data": {
      "text/plain": [
       "<matplotlib.axes._subplots.AxesSubplot at 0x198477d9048>"
      ]
     },
     "execution_count": 48,
     "metadata": {},
     "output_type": "execute_result"
    },
    {
     "data": {
      "image/png": "[encoded data removed]",
      "text/plain": [
       "<Figure size 432x288 with 1 Axes>"
      ]
     },
     "metadata": {
      "needs_background": "light"
     },
     "output_type": "display_data"
    }
   ],
   "source": [
    "sns.scatterplot(x='Wages', y='Wheat', hue='Year', data=df)"
   ]
  },
  {
   "cell_type": "markdown",
   "metadata": {},
   "source": [
    "From this graph we can draw a similar conclusion as before. We see that in some of the earlier years (ligher dots on the graph) the wages were quite low and the wheat prices were quite high in comparison. Then, during the 17th and 18th century we see an increase in wages which is not followed by an equal increase in wheat prices, so we conclude that the purchasing power had become much higher. Then finally towards the end of the 18th century we see a large increase in wheat prices, which corresponds to the previos graph that showed us the purchasing power decreased again."
   ]
  },
  {
   "cell_type": "markdown",
   "metadata": {},
   "source": [
    "#### Conclusion\n",
    "I think that the best data representation is the third graph which shows the amount of wheat that can be bought for the weekly salary as a function of time. I think it is the most intuitive and could be easily understood by anyone, while also containting all the relevant information to draw conslusions."
   ]
  }
 ],
 "metadata": {
  "kernelspec": {
   "display_name": "Python 3",
   "language": "python",
   "name": "python3"
  },
  "language_info": {
   "codemirror_mode": {
    "name": "ipython",
    "version": 3
   },
   "file_extension": ".py",
   "mimetype": "text/x-python",
   "name": "python",
   "nbconvert_exporter": "python",
   "pygments_lexer": "ipython3",
   "version": "3.7.0"
  }
 },
 "nbformat": 4,
 "nbformat_minor": 2
}
